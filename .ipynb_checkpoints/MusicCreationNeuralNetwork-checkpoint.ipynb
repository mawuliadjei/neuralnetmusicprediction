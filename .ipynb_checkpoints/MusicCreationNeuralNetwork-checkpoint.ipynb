{
 "cells": [
  {
   "cell_type": "code",
   "execution_count": 48,
   "metadata": {},
   "outputs": [],
   "source": [
    "import glob\n",
    "import pickle\n",
    "import numpy as np\n",
    "from music21 import converter, instrument, note, chord, stream\n",
    "from keras.models import Sequential\n",
    "from keras.layers import Dense\n",
    "from keras.layers import Dropout\n",
    "from keras.layers import LSTM\n",
    "from keras.layers import Activation\n",
    "from keras.utils import np_utils\n",
    "from keras.callbacks import ModelCheckpoint"
   ]
  },
  {
   "cell_type": "code",
   "execution_count": 45,
   "metadata": {},
   "outputs": [],
   "source": [
    "notes = []\n",
    "for file in glob.glob(\"midi_songs/*.mid\"):\n",
    "    midi = converter.parse(file)\n",
    "    notes_to_parse = None\n",
    "    parts = instrument.partitionByInstrument(midi)\n",
    "    if parts: # file has instrument parts\n",
    "        notes_to_parse = parts.parts[0].recurse()\n",
    "    else: # file has notes in a flat structure\n",
    "        notes_to_parse = midi.flat.notes\n",
    "    for element in notes_to_parse:\n",
    "        if isinstance(element, note.Note):\n",
    "            notes.append(str(element.pitch))\n",
    "        elif isinstance(element, chord.Chord):\n",
    "            notes.append('.'.join(str(n) for n in element.normalOrder))\n",
    "            \n",
    "            #mawuli"
   ]
  },
  {
   "cell_type": "code",
   "execution_count": 46,
   "metadata": {},
   "outputs": [],
   "source": [
    "stream1 = stream.Stream()"
   ]
  },
  {
   "cell_type": "code",
   "execution_count": 21,
   "metadata": {},
   "outputs": [
    {
     "data": {
      "text/html": [
       "\n",
       "                <div id='midiPlayerDiv486505'></div>\n",
       "                <link rel=\"stylesheet\" href=\"//cuthbertLab.github.io/music21j/css/m21.css\"\n",
       "                    type=\"text/css\" />\n",
       "                <script>\n",
       "                require.config({\n",
       "                    paths: {'music21': '//cuthbertLab.github.io/music21j/src/music21'}\n",
       "                });\n",
       "                require(['music21'], function() {\n",
       "                               mp = new music21.miditools.MidiPlayer();\n",
       "                               mp.addPlayer('#midiPlayerDiv486505');\n",
       "                               mp.base64Load('data:audio/midi;base64,TVRoZAAAAAYAAQABBABNVHJrAAAAFgD/AwAA4ABAAJA1WogAgDUAiAD/LwA=');\n",
       "                        });\n",
       "                </script>"
      ],
      "text/plain": [
       "<IPython.core.display.HTML object>"
      ]
     },
     "metadata": {},
     "output_type": "display_data"
    }
   ],
   "source": [
    "note.Note(notes[0]).show('midi')"
   ]
  },
  {
   "cell_type": "code",
   "execution_count": 43,
   "metadata": {},
   "outputs": [],
   "source": [
    "for i in notes:\n",
    "    try:\n",
    "        stream1.append(note.Note(i))\n",
    "    except:\n",
    "        stream1"
   ]
  },
  {
   "cell_type": "code",
   "execution_count": 36,
   "metadata": {},
   "outputs": [
    {
     "data": {
      "text/html": [
       "\n",
       "                <div id='midiPlayerDiv495448'></div>\n",
       "                <link rel=\"stylesheet\" href=\"//cuthbertLab.github.io/music21j/css/m21.css\"\n",
       "                    type=\"text/css\" />\n",
       "                <script>\n",
       "                require.config({\n",
       "                    paths: {'music21': '//cuthbertLab.github.io/music21j/src/music21'}\n",
       "                });\n",
       "                require(['music21'], function() {\n",
       "                               mp = new music21.miditools.MidiPlayer();\n",
       "                               mp.addPlayer('#midiPlayerDiv495448');\n",
       "                               mp.base64Load('data:audio/midi;base64,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');\n",
       "                        });\n",
       "                </script>"
      ],
      "text/plain": [
       "<IPython.core.display.HTML object>"
      ]
     },
     "metadata": {},
     "output_type": "display_data"
    }
   ],
   "source": [
    "stream1.show('midi')"
   ]
  },
  {
   "cell_type": "code",
   "execution_count": 47,
   "metadata": {},
   "outputs": [
    {
     "ename": "NameError",
     "evalue": "name 'np' is not defined",
     "output_type": "error",
     "traceback": [
      "\u001b[0;31m---------------------------------------------------------------------------\u001b[0m",
      "\u001b[0;31mNameError\u001b[0m                                 Traceback (most recent call last)",
      "\u001b[0;32m<ipython-input-47-2c52a4969562>\u001b[0m in \u001b[0;36m<module>\u001b[0;34m()\u001b[0m\n\u001b[1;32m     14\u001b[0m \u001b[0mn_patterns\u001b[0m \u001b[0;34m=\u001b[0m \u001b[0mlen\u001b[0m\u001b[0;34m(\u001b[0m\u001b[0mnetwork_input\u001b[0m\u001b[0;34m)\u001b[0m\u001b[0;34m\u001b[0m\u001b[0;34m\u001b[0m\u001b[0m\n\u001b[1;32m     15\u001b[0m \u001b[0;31m# reshape the input into a format compatible with LSTM layers\u001b[0m\u001b[0;34m\u001b[0m\u001b[0;34m\u001b[0m\u001b[0;34m\u001b[0m\u001b[0m\n\u001b[0;32m---> 16\u001b[0;31m \u001b[0mnetwork_input\u001b[0m \u001b[0;34m=\u001b[0m \u001b[0mnp\u001b[0m\u001b[0;34m.\u001b[0m\u001b[0mreshape\u001b[0m\u001b[0;34m(\u001b[0m\u001b[0mnetwork_input\u001b[0m\u001b[0;34m,\u001b[0m \u001b[0;34m(\u001b[0m\u001b[0mn_patterns\u001b[0m\u001b[0;34m,\u001b[0m \u001b[0msequence_length\u001b[0m\u001b[0;34m+\u001b[0m\u001b[0;36m1\u001b[0m\u001b[0;34m,\u001b[0m \u001b[0;36m1\u001b[0m\u001b[0;34m)\u001b[0m\u001b[0;34m)\u001b[0m\u001b[0;34m\u001b[0m\u001b[0;34m\u001b[0m\u001b[0m\n\u001b[0m\u001b[1;32m     17\u001b[0m \u001b[0;31m# normalize input\u001b[0m\u001b[0;34m\u001b[0m\u001b[0;34m\u001b[0m\u001b[0;34m\u001b[0m\u001b[0m\n\u001b[1;32m     18\u001b[0m \u001b[0mnetwork_input\u001b[0m \u001b[0;34m=\u001b[0m \u001b[0mnetwork_input\u001b[0m \u001b[0;34m/\u001b[0m \u001b[0mfloat\u001b[0m\u001b[0;34m(\u001b[0m\u001b[0mlen\u001b[0m\u001b[0;34m(\u001b[0m\u001b[0mset\u001b[0m\u001b[0;34m(\u001b[0m\u001b[0mnotes\u001b[0m\u001b[0;34m)\u001b[0m\u001b[0;34m)\u001b[0m\u001b[0;34m)\u001b[0m\u001b[0;34m\u001b[0m\u001b[0;34m\u001b[0m\u001b[0m\n",
      "\u001b[0;31mNameError\u001b[0m: name 'np' is not defined"
     ]
    }
   ],
   "source": [
    "sequence_length = 100\n",
    "# get all pitch names\n",
    "pitchnames = sorted(set(item for item in notes))\n",
    "# create a dictionary to map pitches to integers\n",
    "note_to_int = dict((note, number) for number, note in enumerate(pitchnames))\n",
    "network_input = []\n",
    "network_output = []\n",
    "# create input sequences and the corresponding outputs\n",
    "for i in range(0, len(notes) - sequence_length, 1):\n",
    "    sequence_in = notes[i:i + sequence_length]\n",
    "    sequence_out = notes[i + sequence_length]\n",
    "    network_input.append([note_to_int[char] for char in sequence_in])\n",
    "    network_output.append(note_to_int[sequence_out])\n",
    "n_patterns = len(network_input)\n",
    "# reshape the input into a format compatible with LSTM layers\n",
    "network_input = np.reshape(network_input, (n_patterns, sequence_length+1, 1))\n",
    "# normalize input\n",
    "network_input = network_input / float(len(set(notes)))\n",
    "network_output = np_utils.to_categorical(network_output)"
   ]
  },
  {
   "cell_type": "code",
   "execution_count": 33,
   "metadata": {},
   "outputs": [
    {
     "data": {
      "text/plain": [
       "(100, 1)"
      ]
     },
     "execution_count": 33,
     "metadata": {},
     "output_type": "execute_result"
    }
   ],
   "source": [
    "network_input.shape[1], network_input.shape[2]"
   ]
  },
  {
   "cell_type": "code",
   "execution_count": 26,
   "metadata": {},
   "outputs": [],
   "source": [
    "model = Sequential()\n",
    "model.add(LSTM(\n",
    "    256,\n",
    "    input_shape=(network_input.shape[1], network_input.shape[2]),\n",
    "    return_sequences=True\n",
    "))\n",
    "model.add(Dropout(0.3))\n",
    "model.add(LSTM(512, return_sequences=True))\n",
    "model.add(Dropout(0.3))\n",
    "model.add(LSTM(256))\n",
    "model.add(Dense(256))\n",
    "model.add(Dropout(0.3))\n",
    "model.add(Dense(len(set(notes))))\n",
    "model.add(Activation('softmax'))\n",
    "model.compile(loss='categorical_crossentropy', optimizer='rmsprop')"
   ]
  },
  {
   "cell_type": "code",
   "execution_count": 31,
   "metadata": {},
   "outputs": [
    {
     "name": "stdout",
     "output_type": "stream",
     "text": [
      "Epoch 1/1\n",
      "57669/57669 [==============================] - 2305s 40ms/step - loss: 4.5995\n"
     ]
    },
    {
     "data": {
      "text/plain": [
       "<keras.callbacks.History at 0xd6c241b38>"
      ]
     },
     "execution_count": 31,
     "metadata": {},
     "output_type": "execute_result"
    }
   ],
   "source": [
    "filepath = \"weights-improvement-{epoch:02d}-{loss:.4f}-bigger.hdf5\"    \n",
    "checkpoint = ModelCheckpoint(\n",
    "    filepath, monitor='loss', \n",
    "    verbose=0,        \n",
    "    save_best_only=True,        \n",
    "    mode='min'\n",
    ")    \n",
    "callbacks_list = [checkpoint]     \n",
    "model.fit(network_input, network_output, epochs=200, batch_size=64, callbacks=callbacks_list)"
   ]
  },
  {
   "cell_type": "code",
   "execution_count": 32,
   "metadata": {},
   "outputs": [
    {
     "ename": "ValueError",
     "evalue": "Dimension 1 in both shapes must be equal, but are 358 and 359. Shapes are [256,358] and [256,359]. for 'Assign_35' (op: 'Assign') with input shapes: [256,358], [256,359].",
     "output_type": "error",
     "traceback": [
      "\u001b[0;31m---------------------------------------------------------------------------\u001b[0m",
      "\u001b[0;31mInvalidArgumentError\u001b[0m                      Traceback (most recent call last)",
      "\u001b[0;32m/anaconda3/lib/python3.6/site-packages/tensorflow/python/framework/ops.py\u001b[0m in \u001b[0;36m_create_c_op\u001b[0;34m(graph, node_def, inputs, control_inputs)\u001b[0m\n\u001b[1;32m   1627\u001b[0m   \u001b[0;32mtry\u001b[0m\u001b[0;34m:\u001b[0m\u001b[0;34m\u001b[0m\u001b[0;34m\u001b[0m\u001b[0m\n\u001b[0;32m-> 1628\u001b[0;31m     \u001b[0mc_op\u001b[0m \u001b[0;34m=\u001b[0m \u001b[0mc_api\u001b[0m\u001b[0;34m.\u001b[0m\u001b[0mTF_FinishOperation\u001b[0m\u001b[0;34m(\u001b[0m\u001b[0mop_desc\u001b[0m\u001b[0;34m)\u001b[0m\u001b[0;34m\u001b[0m\u001b[0;34m\u001b[0m\u001b[0m\n\u001b[0m\u001b[1;32m   1629\u001b[0m   \u001b[0;32mexcept\u001b[0m \u001b[0merrors\u001b[0m\u001b[0;34m.\u001b[0m\u001b[0mInvalidArgumentError\u001b[0m \u001b[0;32mas\u001b[0m \u001b[0me\u001b[0m\u001b[0;34m:\u001b[0m\u001b[0;34m\u001b[0m\u001b[0;34m\u001b[0m\u001b[0m\n",
      "\u001b[0;31mInvalidArgumentError\u001b[0m: Dimension 1 in both shapes must be equal, but are 358 and 359. Shapes are [256,358] and [256,359]. for 'Assign_35' (op: 'Assign') with input shapes: [256,358], [256,359].",
      "\nDuring handling of the above exception, another exception occurred:\n",
      "\u001b[0;31mValueError\u001b[0m                                Traceback (most recent call last)",
      "\u001b[0;32m<ipython-input-32-afb0fe0738c8>\u001b[0m in \u001b[0;36m<module>\u001b[0;34m()\u001b[0m\n\u001b[1;32m     15\u001b[0m \u001b[0mmodel\u001b[0m\u001b[0;34m.\u001b[0m\u001b[0mcompile\u001b[0m\u001b[0;34m(\u001b[0m\u001b[0mloss\u001b[0m\u001b[0;34m=\u001b[0m\u001b[0;34m'categorical_crossentropy'\u001b[0m\u001b[0;34m,\u001b[0m \u001b[0moptimizer\u001b[0m\u001b[0;34m=\u001b[0m\u001b[0;34m'rmsprop'\u001b[0m\u001b[0;34m)\u001b[0m\u001b[0;34m\u001b[0m\u001b[0;34m\u001b[0m\u001b[0m\n\u001b[1;32m     16\u001b[0m \u001b[0;31m# Load the weights to each node\u001b[0m\u001b[0;34m\u001b[0m\u001b[0;34m\u001b[0m\u001b[0;34m\u001b[0m\u001b[0m\n\u001b[0;32m---> 17\u001b[0;31m \u001b[0mmodel\u001b[0m\u001b[0;34m.\u001b[0m\u001b[0mload_weights\u001b[0m\u001b[0;34m(\u001b[0m\u001b[0;34m'weights.hdf5'\u001b[0m\u001b[0;34m)\u001b[0m\u001b[0;34m\u001b[0m\u001b[0;34m\u001b[0m\u001b[0m\n\u001b[0m",
      "\u001b[0;32m/anaconda3/lib/python3.6/site-packages/keras/engine/network.py\u001b[0m in \u001b[0;36mload_weights\u001b[0;34m(self, filepath, by_name, skip_mismatch, reshape)\u001b[0m\n\u001b[1;32m   1164\u001b[0m             \u001b[0;32melse\u001b[0m\u001b[0;34m:\u001b[0m\u001b[0;34m\u001b[0m\u001b[0;34m\u001b[0m\u001b[0m\n\u001b[1;32m   1165\u001b[0m                 saving.load_weights_from_hdf5_group(\n\u001b[0;32m-> 1166\u001b[0;31m                     f, self.layers, reshape=reshape)\n\u001b[0m\u001b[1;32m   1167\u001b[0m \u001b[0;34m\u001b[0m\u001b[0m\n\u001b[1;32m   1168\u001b[0m     \u001b[0;32mdef\u001b[0m \u001b[0m_updated_config\u001b[0m\u001b[0;34m(\u001b[0m\u001b[0mself\u001b[0m\u001b[0;34m)\u001b[0m\u001b[0;34m:\u001b[0m\u001b[0;34m\u001b[0m\u001b[0;34m\u001b[0m\u001b[0m\n",
      "\u001b[0;32m/anaconda3/lib/python3.6/site-packages/keras/engine/saving.py\u001b[0m in \u001b[0;36mload_weights_from_hdf5_group\u001b[0;34m(f, layers, reshape)\u001b[0m\n\u001b[1;32m   1056\u001b[0m                              ' elements.')\n\u001b[1;32m   1057\u001b[0m         \u001b[0mweight_value_tuples\u001b[0m \u001b[0;34m+=\u001b[0m \u001b[0mzip\u001b[0m\u001b[0;34m(\u001b[0m\u001b[0msymbolic_weights\u001b[0m\u001b[0;34m,\u001b[0m \u001b[0mweight_values\u001b[0m\u001b[0;34m)\u001b[0m\u001b[0;34m\u001b[0m\u001b[0;34m\u001b[0m\u001b[0m\n\u001b[0;32m-> 1058\u001b[0;31m     \u001b[0mK\u001b[0m\u001b[0;34m.\u001b[0m\u001b[0mbatch_set_value\u001b[0m\u001b[0;34m(\u001b[0m\u001b[0mweight_value_tuples\u001b[0m\u001b[0;34m)\u001b[0m\u001b[0;34m\u001b[0m\u001b[0;34m\u001b[0m\u001b[0m\n\u001b[0m\u001b[1;32m   1059\u001b[0m \u001b[0;34m\u001b[0m\u001b[0m\n\u001b[1;32m   1060\u001b[0m \u001b[0;34m\u001b[0m\u001b[0m\n",
      "\u001b[0;32m/anaconda3/lib/python3.6/site-packages/keras/backend/tensorflow_backend.py\u001b[0m in \u001b[0;36mbatch_set_value\u001b[0;34m(tuples)\u001b[0m\n\u001b[1;32m   2463\u001b[0m                 assign_placeholder = tf.placeholder(tf_dtype,\n\u001b[1;32m   2464\u001b[0m                                                     shape=value.shape)\n\u001b[0;32m-> 2465\u001b[0;31m                 \u001b[0massign_op\u001b[0m \u001b[0;34m=\u001b[0m \u001b[0mx\u001b[0m\u001b[0;34m.\u001b[0m\u001b[0massign\u001b[0m\u001b[0;34m(\u001b[0m\u001b[0massign_placeholder\u001b[0m\u001b[0;34m)\u001b[0m\u001b[0;34m\u001b[0m\u001b[0;34m\u001b[0m\u001b[0m\n\u001b[0m\u001b[1;32m   2466\u001b[0m                 \u001b[0mx\u001b[0m\u001b[0;34m.\u001b[0m\u001b[0m_assign_placeholder\u001b[0m \u001b[0;34m=\u001b[0m \u001b[0massign_placeholder\u001b[0m\u001b[0;34m\u001b[0m\u001b[0;34m\u001b[0m\u001b[0m\n\u001b[1;32m   2467\u001b[0m                 \u001b[0mx\u001b[0m\u001b[0;34m.\u001b[0m\u001b[0m_assign_op\u001b[0m \u001b[0;34m=\u001b[0m \u001b[0massign_op\u001b[0m\u001b[0;34m\u001b[0m\u001b[0;34m\u001b[0m\u001b[0m\n",
      "\u001b[0;32m/anaconda3/lib/python3.6/site-packages/tensorflow/python/ops/variables.py\u001b[0m in \u001b[0;36massign\u001b[0;34m(self, value, use_locking, name, read_value)\u001b[0m\n\u001b[1;32m   1716\u001b[0m     \"\"\"\n\u001b[1;32m   1717\u001b[0m     assign = state_ops.assign(self._variable, value, use_locking=use_locking,\n\u001b[0;32m-> 1718\u001b[0;31m                               name=name)\n\u001b[0m\u001b[1;32m   1719\u001b[0m     \u001b[0;32mif\u001b[0m \u001b[0mread_value\u001b[0m\u001b[0;34m:\u001b[0m\u001b[0;34m\u001b[0m\u001b[0;34m\u001b[0m\u001b[0m\n\u001b[1;32m   1720\u001b[0m       \u001b[0;32mreturn\u001b[0m \u001b[0massign\u001b[0m\u001b[0;34m\u001b[0m\u001b[0;34m\u001b[0m\u001b[0m\n",
      "\u001b[0;32m/anaconda3/lib/python3.6/site-packages/tensorflow/python/ops/state_ops.py\u001b[0m in \u001b[0;36massign\u001b[0;34m(ref, value, validate_shape, use_locking, name)\u001b[0m\n\u001b[1;32m    219\u001b[0m     return gen_state_ops.assign(\n\u001b[1;32m    220\u001b[0m         \u001b[0mref\u001b[0m\u001b[0;34m,\u001b[0m \u001b[0mvalue\u001b[0m\u001b[0;34m,\u001b[0m \u001b[0muse_locking\u001b[0m\u001b[0;34m=\u001b[0m\u001b[0muse_locking\u001b[0m\u001b[0;34m,\u001b[0m \u001b[0mname\u001b[0m\u001b[0;34m=\u001b[0m\u001b[0mname\u001b[0m\u001b[0;34m,\u001b[0m\u001b[0;34m\u001b[0m\u001b[0;34m\u001b[0m\u001b[0m\n\u001b[0;32m--> 221\u001b[0;31m         validate_shape=validate_shape)\n\u001b[0m\u001b[1;32m    222\u001b[0m   \u001b[0;32mreturn\u001b[0m \u001b[0mref\u001b[0m\u001b[0;34m.\u001b[0m\u001b[0massign\u001b[0m\u001b[0;34m(\u001b[0m\u001b[0mvalue\u001b[0m\u001b[0;34m,\u001b[0m \u001b[0mname\u001b[0m\u001b[0;34m=\u001b[0m\u001b[0mname\u001b[0m\u001b[0;34m)\u001b[0m\u001b[0;34m\u001b[0m\u001b[0;34m\u001b[0m\u001b[0m\n\u001b[1;32m    223\u001b[0m \u001b[0;34m\u001b[0m\u001b[0m\n",
      "\u001b[0;32m/anaconda3/lib/python3.6/site-packages/tensorflow/python/ops/gen_state_ops.py\u001b[0m in \u001b[0;36massign\u001b[0;34m(ref, value, validate_shape, use_locking, name)\u001b[0m\n\u001b[1;32m     59\u001b[0m     _, _, _op = _op_def_lib._apply_op_helper(\n\u001b[1;32m     60\u001b[0m         \u001b[0;34m\"Assign\"\u001b[0m\u001b[0;34m,\u001b[0m \u001b[0mref\u001b[0m\u001b[0;34m=\u001b[0m\u001b[0mref\u001b[0m\u001b[0;34m,\u001b[0m \u001b[0mvalue\u001b[0m\u001b[0;34m=\u001b[0m\u001b[0mvalue\u001b[0m\u001b[0;34m,\u001b[0m \u001b[0mvalidate_shape\u001b[0m\u001b[0;34m=\u001b[0m\u001b[0mvalidate_shape\u001b[0m\u001b[0;34m,\u001b[0m\u001b[0;34m\u001b[0m\u001b[0;34m\u001b[0m\u001b[0m\n\u001b[0;32m---> 61\u001b[0;31m         use_locking=use_locking, name=name)\n\u001b[0m\u001b[1;32m     62\u001b[0m     \u001b[0m_result\u001b[0m \u001b[0;34m=\u001b[0m \u001b[0m_op\u001b[0m\u001b[0;34m.\u001b[0m\u001b[0moutputs\u001b[0m\u001b[0;34m[\u001b[0m\u001b[0;34m:\u001b[0m\u001b[0;34m]\u001b[0m\u001b[0;34m\u001b[0m\u001b[0;34m\u001b[0m\u001b[0m\n\u001b[1;32m     63\u001b[0m     \u001b[0m_inputs_flat\u001b[0m \u001b[0;34m=\u001b[0m \u001b[0m_op\u001b[0m\u001b[0;34m.\u001b[0m\u001b[0minputs\u001b[0m\u001b[0;34m\u001b[0m\u001b[0;34m\u001b[0m\u001b[0m\n",
      "\u001b[0;32m/anaconda3/lib/python3.6/site-packages/tensorflow/python/framework/op_def_library.py\u001b[0m in \u001b[0;36m_apply_op_helper\u001b[0;34m(self, op_type_name, name, **keywords)\u001b[0m\n\u001b[1;32m    785\u001b[0m         op = g.create_op(op_type_name, inputs, output_types, name=scope,\n\u001b[1;32m    786\u001b[0m                          \u001b[0minput_types\u001b[0m\u001b[0;34m=\u001b[0m\u001b[0minput_types\u001b[0m\u001b[0;34m,\u001b[0m \u001b[0mattrs\u001b[0m\u001b[0;34m=\u001b[0m\u001b[0mattr_protos\u001b[0m\u001b[0;34m,\u001b[0m\u001b[0;34m\u001b[0m\u001b[0;34m\u001b[0m\u001b[0m\n\u001b[0;32m--> 787\u001b[0;31m                          op_def=op_def)\n\u001b[0m\u001b[1;32m    788\u001b[0m       \u001b[0;32mreturn\u001b[0m \u001b[0moutput_structure\u001b[0m\u001b[0;34m,\u001b[0m \u001b[0mop_def\u001b[0m\u001b[0;34m.\u001b[0m\u001b[0mis_stateful\u001b[0m\u001b[0;34m,\u001b[0m \u001b[0mop\u001b[0m\u001b[0;34m\u001b[0m\u001b[0;34m\u001b[0m\u001b[0m\n\u001b[1;32m    789\u001b[0m \u001b[0;34m\u001b[0m\u001b[0m\n",
      "\u001b[0;32m/anaconda3/lib/python3.6/site-packages/tensorflow/python/util/deprecation.py\u001b[0m in \u001b[0;36mnew_func\u001b[0;34m(*args, **kwargs)\u001b[0m\n\u001b[1;32m    486\u001b[0m                 \u001b[0;34m'in a future version'\u001b[0m \u001b[0;32mif\u001b[0m \u001b[0mdate\u001b[0m \u001b[0;32mis\u001b[0m \u001b[0;32mNone\u001b[0m \u001b[0;32melse\u001b[0m \u001b[0;34m(\u001b[0m\u001b[0;34m'after %s'\u001b[0m \u001b[0;34m%\u001b[0m \u001b[0mdate\u001b[0m\u001b[0;34m)\u001b[0m\u001b[0;34m,\u001b[0m\u001b[0;34m\u001b[0m\u001b[0;34m\u001b[0m\u001b[0m\n\u001b[1;32m    487\u001b[0m                 instructions)\n\u001b[0;32m--> 488\u001b[0;31m       \u001b[0;32mreturn\u001b[0m \u001b[0mfunc\u001b[0m\u001b[0;34m(\u001b[0m\u001b[0;34m*\u001b[0m\u001b[0margs\u001b[0m\u001b[0;34m,\u001b[0m \u001b[0;34m**\u001b[0m\u001b[0mkwargs\u001b[0m\u001b[0;34m)\u001b[0m\u001b[0;34m\u001b[0m\u001b[0;34m\u001b[0m\u001b[0m\n\u001b[0m\u001b[1;32m    489\u001b[0m     return tf_decorator.make_decorator(func, new_func, 'deprecated',\n\u001b[1;32m    490\u001b[0m                                        _add_deprecated_arg_notice_to_docstring(\n",
      "\u001b[0;32m/anaconda3/lib/python3.6/site-packages/tensorflow/python/framework/ops.py\u001b[0m in \u001b[0;36mcreate_op\u001b[0;34m(***failed resolving arguments***)\u001b[0m\n\u001b[1;32m   3272\u001b[0m           \u001b[0minput_types\u001b[0m\u001b[0;34m=\u001b[0m\u001b[0minput_types\u001b[0m\u001b[0;34m,\u001b[0m\u001b[0;34m\u001b[0m\u001b[0;34m\u001b[0m\u001b[0m\n\u001b[1;32m   3273\u001b[0m           \u001b[0moriginal_op\u001b[0m\u001b[0;34m=\u001b[0m\u001b[0mself\u001b[0m\u001b[0;34m.\u001b[0m\u001b[0m_default_original_op\u001b[0m\u001b[0;34m,\u001b[0m\u001b[0;34m\u001b[0m\u001b[0;34m\u001b[0m\u001b[0m\n\u001b[0;32m-> 3274\u001b[0;31m           op_def=op_def)\n\u001b[0m\u001b[1;32m   3275\u001b[0m       \u001b[0mself\u001b[0m\u001b[0;34m.\u001b[0m\u001b[0m_create_op_helper\u001b[0m\u001b[0;34m(\u001b[0m\u001b[0mret\u001b[0m\u001b[0;34m,\u001b[0m \u001b[0mcompute_device\u001b[0m\u001b[0;34m=\u001b[0m\u001b[0mcompute_device\u001b[0m\u001b[0;34m)\u001b[0m\u001b[0;34m\u001b[0m\u001b[0;34m\u001b[0m\u001b[0m\n\u001b[1;32m   3276\u001b[0m     \u001b[0;32mreturn\u001b[0m \u001b[0mret\u001b[0m\u001b[0;34m\u001b[0m\u001b[0;34m\u001b[0m\u001b[0m\n",
      "\u001b[0;32m/anaconda3/lib/python3.6/site-packages/tensorflow/python/framework/ops.py\u001b[0m in \u001b[0;36m__init__\u001b[0;34m(self, node_def, g, inputs, output_types, control_inputs, input_types, original_op, op_def)\u001b[0m\n\u001b[1;32m   1790\u001b[0m           op_def, inputs, node_def.attr)\n\u001b[1;32m   1791\u001b[0m       self._c_op = _create_c_op(self._graph, node_def, grouped_inputs,\n\u001b[0;32m-> 1792\u001b[0;31m                                 control_input_ops)\n\u001b[0m\u001b[1;32m   1793\u001b[0m \u001b[0;34m\u001b[0m\u001b[0m\n\u001b[1;32m   1794\u001b[0m     \u001b[0;31m# Initialize self._outputs.\u001b[0m\u001b[0;34m\u001b[0m\u001b[0;34m\u001b[0m\u001b[0;34m\u001b[0m\u001b[0m\n",
      "\u001b[0;32m/anaconda3/lib/python3.6/site-packages/tensorflow/python/framework/ops.py\u001b[0m in \u001b[0;36m_create_c_op\u001b[0;34m(graph, node_def, inputs, control_inputs)\u001b[0m\n\u001b[1;32m   1629\u001b[0m   \u001b[0;32mexcept\u001b[0m \u001b[0merrors\u001b[0m\u001b[0;34m.\u001b[0m\u001b[0mInvalidArgumentError\u001b[0m \u001b[0;32mas\u001b[0m \u001b[0me\u001b[0m\u001b[0;34m:\u001b[0m\u001b[0;34m\u001b[0m\u001b[0;34m\u001b[0m\u001b[0m\n\u001b[1;32m   1630\u001b[0m     \u001b[0;31m# Convert to ValueError for backwards compatibility.\u001b[0m\u001b[0;34m\u001b[0m\u001b[0;34m\u001b[0m\u001b[0;34m\u001b[0m\u001b[0m\n\u001b[0;32m-> 1631\u001b[0;31m     \u001b[0;32mraise\u001b[0m \u001b[0mValueError\u001b[0m\u001b[0;34m(\u001b[0m\u001b[0mstr\u001b[0m\u001b[0;34m(\u001b[0m\u001b[0me\u001b[0m\u001b[0;34m)\u001b[0m\u001b[0;34m)\u001b[0m\u001b[0;34m\u001b[0m\u001b[0;34m\u001b[0m\u001b[0m\n\u001b[0m\u001b[1;32m   1632\u001b[0m \u001b[0;34m\u001b[0m\u001b[0m\n\u001b[1;32m   1633\u001b[0m   \u001b[0;32mreturn\u001b[0m \u001b[0mc_op\u001b[0m\u001b[0;34m\u001b[0m\u001b[0;34m\u001b[0m\u001b[0m\n",
      "\u001b[0;31mValueError\u001b[0m: Dimension 1 in both shapes must be equal, but are 358 and 359. Shapes are [256,358] and [256,359]. for 'Assign_35' (op: 'Assign') with input shapes: [256,358], [256,359]."
     ]
    }
   ],
   "source": [
    "model = Sequential()\n",
    "model.add(LSTM(\n",
    "    512,\n",
    "    input_shape=(network_input.shape[1], network_input.shape[2]),\n",
    "    return_sequences=True\n",
    "))\n",
    "model.add(Dropout(0.3))\n",
    "model.add(LSTM(512, return_sequences=True))\n",
    "model.add(Dropout(0.3))\n",
    "model.add(LSTM(512))\n",
    "model.add(Dense(256))\n",
    "model.add(Dropout(0.3))\n",
    "model.add(Dense(len(set(notes))))\n",
    "model.add(Activation('softmax'))\n",
    "model.compile(loss='categorical_crossentropy', optimizer='rmsprop')\n",
    "# Load the weights to each node\n",
    "model.load_weights('weights.hdf5')"
   ]
  },
  {
   "cell_type": "code",
   "execution_count": null,
   "metadata": {},
   "outputs": [],
   "source": []
  },
  {
   "cell_type": "code",
   "execution_count": null,
   "metadata": {},
   "outputs": [],
   "source": [
    "start = numpy.random.randint(0, len(network_input)-1)\n",
    "int_to_note = dict((number, note) for number, note in enumerate(pitchnames))\n",
    "pattern = network_input[start]\n",
    "prediction_output = []\n",
    "# generate 500 notes\n",
    "for note_index in range(500):\n",
    "    prediction_input = numpy.reshape(pattern, (1, len(pattern), 1))\n",
    "    prediction_input = prediction_input / float(n_vocab)\n",
    "    prediction = model.predict(prediction_input, verbose=0)\n",
    "    index = numpy.argmax(prediction)\n",
    "    result = int_to_note[index]\n",
    "    prediction_output.append(result)\n",
    "    pattern.append(index)\n",
    "    pattern = pattern[1:len(pattern)]"
   ]
  }
 ],
 "metadata": {
  "kernelspec": {
   "display_name": "Python 3",
   "language": "python",
   "name": "python3"
  },
  "language_info": {
   "codemirror_mode": {
    "name": "ipython",
    "version": 3
   },
   "file_extension": ".py",
   "mimetype": "text/x-python",
   "name": "python",
   "nbconvert_exporter": "python",
   "pygments_lexer": "ipython3",
   "version": "3.6.5"
  }
 },
 "nbformat": 4,
 "nbformat_minor": 2
}
